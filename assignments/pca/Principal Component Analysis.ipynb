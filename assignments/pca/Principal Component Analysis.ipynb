{
 "cells": [
  {
   "cell_type": "code",
   "execution_count": 1,
   "id": "00342ae0",
   "metadata": {},
   "outputs": [],
   "source": [
    "import os\n",
    "import numpy as np\n",
    "import pandas as pd"
   ]
  },
  {
   "cell_type": "code",
   "execution_count": 3,
   "id": "d1e20dc6",
   "metadata": {},
   "outputs": [
    {
     "data": {
      "text/html": [
       "<div>\n",
       "<style scoped>\n",
       "    .dataframe tbody tr th:only-of-type {\n",
       "        vertical-align: middle;\n",
       "    }\n",
       "\n",
       "    .dataframe tbody tr th {\n",
       "        vertical-align: top;\n",
       "    }\n",
       "\n",
       "    .dataframe thead th {\n",
       "        text-align: right;\n",
       "    }\n",
       "</style>\n",
       "<table border=\"1\" class=\"dataframe\">\n",
       "  <thead>\n",
       "    <tr style=\"text-align: right;\">\n",
       "      <th></th>\n",
       "      <th>number_people</th>\n",
       "      <th>day_of_week</th>\n",
       "      <th>is_weekend</th>\n",
       "      <th>is_holiday</th>\n",
       "      <th>temperature</th>\n",
       "      <th>is_start_of_semester</th>\n",
       "      <th>is_during_semester</th>\n",
       "      <th>month</th>\n",
       "      <th>hour</th>\n",
       "    </tr>\n",
       "  </thead>\n",
       "  <tbody>\n",
       "    <tr>\n",
       "      <th>0</th>\n",
       "      <td>37</td>\n",
       "      <td>4</td>\n",
       "      <td>0</td>\n",
       "      <td>0</td>\n",
       "      <td>71.76</td>\n",
       "      <td>0</td>\n",
       "      <td>0</td>\n",
       "      <td>8</td>\n",
       "      <td>17</td>\n",
       "    </tr>\n",
       "    <tr>\n",
       "      <th>1</th>\n",
       "      <td>45</td>\n",
       "      <td>4</td>\n",
       "      <td>0</td>\n",
       "      <td>0</td>\n",
       "      <td>71.76</td>\n",
       "      <td>0</td>\n",
       "      <td>0</td>\n",
       "      <td>8</td>\n",
       "      <td>17</td>\n",
       "    </tr>\n",
       "    <tr>\n",
       "      <th>2</th>\n",
       "      <td>40</td>\n",
       "      <td>4</td>\n",
       "      <td>0</td>\n",
       "      <td>0</td>\n",
       "      <td>71.76</td>\n",
       "      <td>0</td>\n",
       "      <td>0</td>\n",
       "      <td>8</td>\n",
       "      <td>17</td>\n",
       "    </tr>\n",
       "    <tr>\n",
       "      <th>3</th>\n",
       "      <td>44</td>\n",
       "      <td>4</td>\n",
       "      <td>0</td>\n",
       "      <td>0</td>\n",
       "      <td>71.76</td>\n",
       "      <td>0</td>\n",
       "      <td>0</td>\n",
       "      <td>8</td>\n",
       "      <td>17</td>\n",
       "    </tr>\n",
       "    <tr>\n",
       "      <th>4</th>\n",
       "      <td>45</td>\n",
       "      <td>4</td>\n",
       "      <td>0</td>\n",
       "      <td>0</td>\n",
       "      <td>71.76</td>\n",
       "      <td>0</td>\n",
       "      <td>0</td>\n",
       "      <td>8</td>\n",
       "      <td>17</td>\n",
       "    </tr>\n",
       "    <tr>\n",
       "      <th>...</th>\n",
       "      <td>...</td>\n",
       "      <td>...</td>\n",
       "      <td>...</td>\n",
       "      <td>...</td>\n",
       "      <td>...</td>\n",
       "      <td>...</td>\n",
       "      <td>...</td>\n",
       "      <td>...</td>\n",
       "      <td>...</td>\n",
       "    </tr>\n",
       "    <tr>\n",
       "      <th>62179</th>\n",
       "      <td>23</td>\n",
       "      <td>5</td>\n",
       "      <td>1</td>\n",
       "      <td>0</td>\n",
       "      <td>61.07</td>\n",
       "      <td>0</td>\n",
       "      <td>1</td>\n",
       "      <td>3</td>\n",
       "      <td>18</td>\n",
       "    </tr>\n",
       "    <tr>\n",
       "      <th>62180</th>\n",
       "      <td>21</td>\n",
       "      <td>5</td>\n",
       "      <td>1</td>\n",
       "      <td>0</td>\n",
       "      <td>61.07</td>\n",
       "      <td>0</td>\n",
       "      <td>1</td>\n",
       "      <td>3</td>\n",
       "      <td>18</td>\n",
       "    </tr>\n",
       "    <tr>\n",
       "      <th>62181</th>\n",
       "      <td>25</td>\n",
       "      <td>5</td>\n",
       "      <td>1</td>\n",
       "      <td>0</td>\n",
       "      <td>56.71</td>\n",
       "      <td>0</td>\n",
       "      <td>1</td>\n",
       "      <td>3</td>\n",
       "      <td>19</td>\n",
       "    </tr>\n",
       "    <tr>\n",
       "      <th>62182</th>\n",
       "      <td>18</td>\n",
       "      <td>5</td>\n",
       "      <td>1</td>\n",
       "      <td>0</td>\n",
       "      <td>56.71</td>\n",
       "      <td>0</td>\n",
       "      <td>1</td>\n",
       "      <td>3</td>\n",
       "      <td>19</td>\n",
       "    </tr>\n",
       "    <tr>\n",
       "      <th>62183</th>\n",
       "      <td>23</td>\n",
       "      <td>5</td>\n",
       "      <td>1</td>\n",
       "      <td>0</td>\n",
       "      <td>56.71</td>\n",
       "      <td>0</td>\n",
       "      <td>1</td>\n",
       "      <td>3</td>\n",
       "      <td>19</td>\n",
       "    </tr>\n",
       "  </tbody>\n",
       "</table>\n",
       "<p>62184 rows × 9 columns</p>\n",
       "</div>"
      ],
      "text/plain": [
       "       number_people  day_of_week  is_weekend  is_holiday  temperature  \\\n",
       "0                 37            4           0           0        71.76   \n",
       "1                 45            4           0           0        71.76   \n",
       "2                 40            4           0           0        71.76   \n",
       "3                 44            4           0           0        71.76   \n",
       "4                 45            4           0           0        71.76   \n",
       "...              ...          ...         ...         ...          ...   \n",
       "62179             23            5           1           0        61.07   \n",
       "62180             21            5           1           0        61.07   \n",
       "62181             25            5           1           0        56.71   \n",
       "62182             18            5           1           0        56.71   \n",
       "62183             23            5           1           0        56.71   \n",
       "\n",
       "       is_start_of_semester  is_during_semester  month  hour  \n",
       "0                         0                   0      8    17  \n",
       "1                         0                   0      8    17  \n",
       "2                         0                   0      8    17  \n",
       "3                         0                   0      8    17  \n",
       "4                         0                   0      8    17  \n",
       "...                     ...                 ...    ...   ...  \n",
       "62179                     0                   1      3    18  \n",
       "62180                     0                   1      3    18  \n",
       "62181                     0                   1      3    19  \n",
       "62182                     0                   1      3    19  \n",
       "62183                     0                   1      3    19  \n",
       "\n",
       "[62184 rows x 9 columns]"
      ]
     },
     "execution_count": 3,
     "metadata": {},
     "output_type": "execute_result"
    }
   ],
   "source": [
    "df_gym = pd.read_csv('GYM.csv')\n",
    "df_gym"
   ]
  },
  {
   "cell_type": "code",
   "execution_count": 4,
   "id": "e139e91b",
   "metadata": {},
   "outputs": [
    {
     "name": "stdout",
     "output_type": "stream",
     "text": [
      "<class 'pandas.core.frame.DataFrame'>\n",
      "RangeIndex: 62184 entries, 0 to 62183\n",
      "Data columns (total 9 columns):\n",
      " #   Column                Non-Null Count  Dtype  \n",
      "---  ------                --------------  -----  \n",
      " 0   number_people         62184 non-null  int64  \n",
      " 1   day_of_week           62184 non-null  int64  \n",
      " 2   is_weekend            62184 non-null  int64  \n",
      " 3   is_holiday            62184 non-null  int64  \n",
      " 4   temperature           62184 non-null  float64\n",
      " 5   is_start_of_semester  62184 non-null  int64  \n",
      " 6   is_during_semester    62184 non-null  int64  \n",
      " 7   month                 62184 non-null  int64  \n",
      " 8   hour                  62184 non-null  int64  \n",
      "dtypes: float64(1), int64(8)\n",
      "memory usage: 4.3 MB\n"
     ]
    }
   ],
   "source": [
    "df_gym.info()"
   ]
  },
  {
   "cell_type": "code",
   "execution_count": 5,
   "id": "dcb28e88",
   "metadata": {},
   "outputs": [
    {
     "data": {
      "text/plain": [
       "Index(['number_people', 'day_of_week', 'is_weekend', 'is_holiday',\n",
       "       'temperature', 'is_start_of_semester', 'is_during_semester', 'month',\n",
       "       'hour'],\n",
       "      dtype='object')"
      ]
     },
     "execution_count": 5,
     "metadata": {},
     "output_type": "execute_result"
    }
   ],
   "source": [
    "df_gym.columns"
   ]
  },
  {
   "cell_type": "code",
   "execution_count": 7,
   "id": "cf9f44fd",
   "metadata": {},
   "outputs": [],
   "source": [
    "sel_cols = ['day_of_week', 'is_weekend', 'is_holiday',\n",
    "       'temperature', 'is_start_of_semester', 'is_during_semester', 'month',\n",
    "       'hour']"
   ]
  },
  {
   "cell_type": "code",
   "execution_count": 20,
   "id": "ecae3340",
   "metadata": {},
   "outputs": [],
   "source": [
    "X = df_gym[df_gym.columns]"
   ]
  },
  {
   "cell_type": "code",
   "execution_count": 21,
   "id": "70a432e5",
   "metadata": {},
   "outputs": [
    {
     "data": {
      "text/plain": [
       "((62184, 9), (62184,))"
      ]
     },
     "execution_count": 21,
     "metadata": {},
     "output_type": "execute_result"
    }
   ],
   "source": [
    "y = df_gym['number_people']\n",
    "X.shape, y.shape"
   ]
  },
  {
   "cell_type": "code",
   "execution_count": 22,
   "id": "62d856a6",
   "metadata": {},
   "outputs": [],
   "source": [
    "from sklearn.preprocessing import StandardScaler\n",
    "from sklearn.decomposition import PCA"
   ]
  },
  {
   "cell_type": "code",
   "execution_count": 23,
   "id": "25bd7c4d",
   "metadata": {},
   "outputs": [],
   "source": [
    "X_std = StandardScaler().fit_transform(X)"
   ]
  },
  {
   "cell_type": "code",
   "execution_count": 24,
   "id": "d28b50c8",
   "metadata": {},
   "outputs": [
    {
     "data": {
      "text/plain": [
       "array([[ 0.34939892,  0.50956119, -0.6280507 , ..., -1.39393832,\n",
       "         0.16260365,  0.70911589],\n",
       "       [ 0.70199512,  0.50956119, -0.6280507 , ..., -1.39393832,\n",
       "         0.16260365,  0.70911589],\n",
       "       [ 0.48162249,  0.50956119, -0.6280507 , ..., -1.39393832,\n",
       "         0.16260365,  0.70911589],\n",
       "       ...,\n",
       "       [-0.17949539,  1.01036016,  1.59222814, ...,  0.71739186,\n",
       "        -1.28875789,  1.0068423 ],\n",
       "       [-0.48801707,  1.01036016,  1.59222814, ...,  0.71739186,\n",
       "        -1.28875789,  1.0068423 ],\n",
       "       [-0.26764444,  1.01036016,  1.59222814, ...,  0.71739186,\n",
       "        -1.28875789,  1.0068423 ]])"
      ]
     },
     "execution_count": 24,
     "metadata": {},
     "output_type": "execute_result"
    }
   ],
   "source": [
    "X_std"
   ]
  },
  {
   "cell_type": "code",
   "execution_count": 25,
   "id": "c63dead6",
   "metadata": {},
   "outputs": [
    {
     "data": {
      "text/plain": [
       "array([[ 1.00001608e+00, -1.62064466e-01, -1.73960610e-01,\n",
       "        -4.82501246e-02,  3.73333302e-01,  1.82685836e-01,\n",
       "         3.35355754e-01, -9.78551214e-02,  5.52058322e-01],\n",
       "       [-1.62064466e-01,  1.00001608e+00,  7.91350923e-01,\n",
       "        -7.58632581e-02,  1.11689106e-02, -1.17822146e-02,\n",
       "        -4.82370614e-03,  1.55589363e-02, -1.91430511e-03],\n",
       "       [-1.73960610e-01,  7.91350923e-01,  1.00001608e+00,\n",
       "        -3.18993471e-02,  2.06736733e-02, -1.66460432e-02,\n",
       "        -3.61277725e-02,  8.46248251e-03, -5.17297084e-04],\n",
       "       [-4.82501246e-02, -7.58632581e-02, -3.18993471e-02,\n",
       "         1.00001608e+00, -8.85280154e-02, -1.48581472e-02,\n",
       "        -7.07995743e-02, -9.49438154e-02,  2.84321058e-03],\n",
       "       [ 3.73333302e-01,  1.11689106e-02,  2.06736733e-02,\n",
       "        -8.85280154e-02,  1.00001608e+00,  9.32433629e-02,\n",
       "         1.52478347e-01,  6.31255958e-02,  1.85123709e-01],\n",
       "       [ 1.82685836e-01, -1.17822146e-02, -1.66460432e-02,\n",
       "        -1.48581472e-02,  9.32433629e-02,  1.00001608e+00,\n",
       "         2.09865473e-01, -1.37161817e-01,  1.00908854e-02],\n",
       "       [ 3.35355754e-01, -4.82370614e-03, -3.61277725e-02,\n",
       "        -7.07995743e-02,  1.52478347e-01,  2.09865473e-01,\n",
       "         1.00001608e+00,  9.65572296e-02,  4.55815903e-02],\n",
       "       [-9.78551214e-02,  1.55589363e-02,  8.46248251e-03,\n",
       "        -9.49438154e-02,  6.31255958e-02, -1.37161817e-01,\n",
       "         9.65572296e-02,  1.00001608e+00, -2.36238823e-02],\n",
       "       [ 5.52058322e-01, -1.91430511e-03, -5.17297084e-04,\n",
       "         2.84321058e-03,  1.85123709e-01,  1.00908854e-02,\n",
       "         4.55815903e-02, -2.36238823e-02,  1.00001608e+00]])"
      ]
     },
     "execution_count": 25,
     "metadata": {},
     "output_type": "execute_result"
    }
   ],
   "source": [
    "cov_mat = np.cov(X_std, rowvar=False)\n",
    "cov_mat"
   ]
  },
  {
   "cell_type": "code",
   "execution_count": 26,
   "id": "335aa367",
   "metadata": {},
   "outputs": [
    {
     "name": "stdout",
     "output_type": "stream",
     "text": [
      "Covariance matrix \n",
      "\n",
      "Eigen values:\n",
      " [2.04958658 1.73199109 0.31504025 0.20666435 1.17411649 1.11866801\n",
      " 0.69783664 0.79125894 0.91498239]\n",
      "Eigen vectors:\n",
      " [[-5.71152792e-01  2.47109706e-01  7.50836945e-01  1.65994561e-02\n",
      "   1.00551975e-01  1.35279968e-01  6.64999204e-02 -1.25609699e-01\n",
      "  -8.84398290e-03]\n",
      " [ 3.80575058e-01  5.82582976e-01  9.32549054e-02 -7.05155884e-01\n",
      "   7.10835914e-02 -6.77040924e-04  2.27651935e-02 -5.44348829e-02\n",
      "   3.58281754e-02]\n",
      " [ 3.88550675e-01  5.72849404e-01  7.25343785e-02  7.07023948e-01\n",
      "   1.03269728e-01  2.36153197e-02  4.72057551e-03 -6.87774453e-03\n",
      "   6.66027621e-02]\n",
      " [ 3.16629844e-02 -1.66061463e-01  3.06779246e-02 -3.82780840e-02\n",
      "   4.96132764e-01  1.23824941e-01 -3.61734012e-03  1.78383434e-01\n",
      "   8.22010115e-01]\n",
      " [-3.19177070e-01  3.08677723e-01 -2.11164415e-01 -2.27814858e-02\n",
      "  -1.75131931e-01  9.32764545e-02  1.50926379e-01  8.33985881e-01\n",
      "  -7.19328009e-03]\n",
      " [-2.08429918e-01  1.44791044e-01 -4.43669942e-02 -3.11300758e-03\n",
      "   2.43275900e-01 -6.77688028e-01 -6.36280758e-01  9.70942561e-02\n",
      "  -2.98274462e-02]\n",
      " [-2.99602994e-01  2.23860600e-01 -2.84408480e-01  2.29286422e-02\n",
      "  -2.50041656e-01 -4.60432936e-01  4.92051563e-01 -3.55785728e-01\n",
      "   3.68093776e-01]\n",
      " [ 4.80493302e-02  2.75924256e-02  1.41116958e-01  1.98324074e-03\n",
      "  -7.35051315e-01  1.46932752e-01 -4.82277220e-01 -3.58788490e-02\n",
      "   4.25727275e-01]\n",
      " [-3.73611051e-01  2.76911044e-01 -5.23434823e-01 -8.55691497e-03\n",
      "   1.88011819e-01  5.14061562e-01 -3.04443926e-01 -3.41409687e-01\n",
      "  -2.86951034e-02]]\n"
     ]
    }
   ],
   "source": [
    "print('Covariance matrix \\n')\n",
    "\n",
    "eigen_values, eigen_vectors = np.linalg.eig(cov_mat)\n",
    "print('Eigen values:\\n', eigen_values)\n",
    "print('Eigen vectors:\\n', eigen_vectors)\n"
   ]
  },
  {
   "cell_type": "code",
   "execution_count": 27,
   "id": "bbc8f4bb",
   "metadata": {},
   "outputs": [
    {
     "data": {
      "text/plain": [
       "9.000144734091311"
      ]
     },
     "execution_count": 27,
     "metadata": {},
     "output_type": "execute_result"
    }
   ],
   "source": [
    "tot = sum(eigen_values) #all of it\n",
    "tot"
   ]
  },
  {
   "cell_type": "code",
   "execution_count": 28,
   "id": "665594fe",
   "metadata": {},
   "outputs": [
    {
     "name": "stdout",
     "output_type": "stream",
     "text": [
      "Variance Explained: [22.772818046476694, 19.244035975884273, 13.045528929756603, 12.429444680996433, 10.166307480372193, 8.791624628465163, 7.753615735242588, 3.500390905479974, 2.2962336173260893]\n"
     ]
    }
   ],
   "source": [
    "exp_var = [(i/tot)*100 for i in sorted(eigen_values, reverse=True)]\n",
    "print('Variance Explained:', exp_var)"
   ]
  },
  {
   "cell_type": "code",
   "execution_count": 29,
   "id": "1101e50c",
   "metadata": {},
   "outputs": [
    {
     "data": {
      "text/plain": [
       "array([22.77281805, 19.24403598,  3.50039091,  2.29623362, 13.04552893,\n",
       "       12.42944468,  7.75361574,  8.79162463, 10.16630748])"
      ]
     },
     "execution_count": 29,
     "metadata": {},
     "output_type": "execute_result"
    }
   ],
   "source": [
    "eigen_values/tot*100\n"
   ]
  },
  {
   "cell_type": "code",
   "execution_count": 30,
   "id": "ed0d0b14",
   "metadata": {},
   "outputs": [
    {
     "name": "stdout",
     "output_type": "stream",
     "text": [
      "Cumulative variance explained [ 22.77281805  42.01685402  55.06238295  67.49182763  77.65813511\n",
      "  86.44975974  94.20337548  97.70376638 100.        ]\n"
     ]
    }
   ],
   "source": [
    "cum_exp_var = np.cumsum(exp_var)\n",
    "print('Cumulative variance explained', cum_exp_var)"
   ]
  },
  {
   "cell_type": "code",
   "execution_count": null,
   "id": "263d49af",
   "metadata": {},
   "outputs": [],
   "source": []
  },
  {
   "cell_type": "code",
   "execution_count": null,
   "id": "1ba74402",
   "metadata": {},
   "outputs": [],
   "source": []
  },
  {
   "cell_type": "code",
   "execution_count": null,
   "id": "3d1a41e1",
   "metadata": {},
   "outputs": [],
   "source": []
  },
  {
   "cell_type": "code",
   "execution_count": null,
   "id": "f866b035",
   "metadata": {},
   "outputs": [],
   "source": []
  }
 ],
 "metadata": {
  "kernelspec": {
   "display_name": "Python 3 (ipykernel)",
   "language": "python",
   "name": "python3"
  },
  "language_info": {
   "codemirror_mode": {
    "name": "ipython",
    "version": 3
   },
   "file_extension": ".py",
   "mimetype": "text/x-python",
   "name": "python",
   "nbconvert_exporter": "python",
   "pygments_lexer": "ipython3",
   "version": "3.11.4"
  }
 },
 "nbformat": 4,
 "nbformat_minor": 5
}
