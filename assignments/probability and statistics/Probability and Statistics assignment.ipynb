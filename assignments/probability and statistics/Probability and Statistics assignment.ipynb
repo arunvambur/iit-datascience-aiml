{
 "cells": [
  {
   "cell_type": "markdown",
   "id": "f9d35aad",
   "metadata": {},
   "source": [
    "1) Given a sample, find the standard deviation and variance of the same. Sample = [42 61 39 70 8 30 52 28 95 86 35 77 80 86 1 84 90 57 45 6 1 56 60 83 24 63 93 59 92 53]\n",
    "\n",
    "a. 24.89, 811.59\n",
    "b. 28.94, 819.15\n",
    "c. 28.49, 811.95\n",
    "d. 28.44, 800.49"
   ]
  },
  {
   "cell_type": "code",
   "execution_count": 2,
   "id": "1117768e",
   "metadata": {},
   "outputs": [
    {
     "name": "stdout",
     "output_type": "stream",
     "text": [
      "Variance = 839.9586206896552\n",
      "Std Dev = 28.982039622663812\n"
     ]
    }
   ],
   "source": [
    "from math import sqrt\n",
    "\n",
    "# Calculating variance in python\n",
    "data =  [42, 61, 39, 70, 8, 30, 52, 28, 95, 86, 35, 77, 80, 86, 1, 84, 90, 57, 45, 6, 1, 56, 60, 83, 24, 63, 93, 59, 92, 53]\n",
    "\n",
    "def variance(values, is_sample: bool = False):\n",
    "    mean = sum(values)/len(values)\n",
    "    _variance = sum((v -mean)**2 for v in values)/(len(values) - (1 if is_sample else 0))\n",
    "    return _variance\n",
    "                                                   \n",
    "def std_dev(values, is_sample: bool = False):\n",
    "    return sqrt(variance(values, is_sample))\n",
    "\n",
    "print(\"Variance = {}\".format(variance(data, is_sample=True)))\n",
    "print(\"Std Dev = {}\".format(std_dev(data, is_sample=True)))   "
   ]
  },
  {
   "cell_type": "markdown",
   "id": "675d2784",
   "metadata": {},
   "source": [
    "Ans: B"
   ]
  },
  {
   "cell_type": "markdown",
   "id": "c7da02d3",
   "metadata": {},
   "source": [
    "2) For a given unsorted array, find the range of the array, and the Interquartile range(IQR) of the array. array = numpy.array([17, 27, 80, 39, 72, 95, 52, 85, 8, 64, 36, 15, 62, 76, 66, 67, 59, 92])\n",
    "\n",
    "a. 95, 26.25\n",
    "b. 95, 35.28\n",
    "c. 87, 38.25\n",
    "d. 87, 46.25"
   ]
  },
  {
   "cell_type": "code",
   "execution_count": 5,
   "id": "0cede88b",
   "metadata": {},
   "outputs": [
    {
     "name": "stdout",
     "output_type": "stream",
     "text": [
      "Range of array: 87\n",
      "Interquartile Range (IQR): 38.25\n",
      "Quartile Deviation: 19.125\n"
     ]
    }
   ],
   "source": [
    "import numpy as np\n",
    " \n",
    "# Sample dataset\n",
    "data = np.array([17, 27, 80, 39, 72, 95, 52, 85, 8, 64, 36, 15, 62, 76, 66, 67, 59, 92])\n",
    " \n",
    "# Calculate Interquartile Range (IQR) using numpy\n",
    "q1 = np.percentile(data, 25)\n",
    "q3 = np.percentile(data, 75)\n",
    "iqr = q3 - q1\n",
    " \n",
    "# Calculate Quartile Deviation\n",
    "quartile_deviation = (q3 - q1) / 2\n",
    "\n",
    "r = np.ptp(data, axis=0)\n",
    " \n",
    "print(\"Range of array:\", r)\n",
    "print(\"Interquartile Range (IQR):\", iqr)\n",
    "print(\"Quartile Deviation:\", quartile_deviation)"
   ]
  },
  {
   "cell_type": "markdown",
   "id": "3a8a8653",
   "metadata": {},
   "source": [
    "Ans: C"
   ]
  },
  {
   "cell_type": "markdown",
   "id": "e61d1ea3",
   "metadata": {},
   "source": [
    "3) In a skewed distribution, If the mean and median of a sample is 56, and 63 and the mode of the same is 65. The distribution graph of the sample will be ___?\n",
    "\n",
    "a. Unskewed\n",
    "b. None of the Above\n",
    "c. Negatively Skewed\n",
    "d. Positively Skewed"
   ]
  },
  {
   "cell_type": "markdown",
   "id": "6c7db575",
   "metadata": {},
   "source": [
    "Ans: D"
   ]
  },
  {
   "cell_type": "markdown",
   "id": "a4e3c759",
   "metadata": {},
   "source": [
    "4) If the IQR range of the sample is 4.5, and Q1 and Q3 values are 4, 8.25 respectively. Which of the following are suspected outliers in the sample?\n",
    "\n",
    "a. 9 , 2\n",
    "b. -1, 13\n",
    "c. -4, 15\n",
    "d. 12, 3"
   ]
  },
  {
   "cell_type": "markdown",
   "id": "192838ed",
   "metadata": {},
   "source": [
    "Ans: C"
   ]
  },
  {
   "cell_type": "markdown",
   "id": "aacd4d9c",
   "metadata": {},
   "source": [
    "5) In a normal distribution curve ___?\n",
    "\n",
    "a. The graph is asymmetrical with negatively skewed or positively skewed distribution\n",
    "b. The mean and median are less than the mode\n",
    "c. The mean and median are greater than the IQR range\n",
    "d. The AUC value is 1"
   ]
  },
  {
   "cell_type": "markdown",
   "id": "ecff73d7",
   "metadata": {},
   "source": [
    "Ans: D"
   ]
  },
  {
   "cell_type": "markdown",
   "id": "d6a44241",
   "metadata": {},
   "source": [
    "6) Calculate the 95% confidence interval of the given sample using the t-distribution. Sample = [78 65 20 69 36 81 85 71 44 71 47 37 89 25 73 55 80 52 46 77].\n",
    "\n",
    "a. (54.500 , 68.649)\n",
    "b. (45.450 , 67.599)\n",
    "c. (40.500 , 63.659)\n",
    "d. (50.400 , 69.699)"
   ]
  },
  {
   "cell_type": "code",
   "execution_count": 15,
   "id": "1600d39f",
   "metadata": {},
   "outputs": [
    {
     "name": "stdout",
     "output_type": "stream",
     "text": [
      "60.05\n",
      "20.095957304890952\n",
      "(-1.959963984540054, 1.959963984540054)\n",
      "(51.242720223899234, 68.85727977610077)\n"
     ]
    }
   ],
   "source": [
    "# Calculating a confidenc interval in python\n",
    "import numpy as np\n",
    "from math import sqrt\n",
    "from scipy.stats import norm\n",
    "\n",
    "sample = np.array([78, 65, 20, 69, 36, 81, 85, 71, 44, 71, 47, 37, 89, 25, 73, 55, 80, 52, 46, 77])\n",
    "    \n",
    "mean = np.mean(sample)\n",
    "print(mean)\n",
    "\n",
    "std = np.std(sample)\n",
    "print(std)\n",
    "\n",
    "def critical_z_value(p):\n",
    "    norm_dist = norm(loc=0.0, scale=1.0)\n",
    "    left_tail_area = (1.0 - p)/2.0\n",
    "    upper_area = 1.0 - ((1.0 - p)/2.0)\n",
    "    upper_area = 1.0 - ((1.0 -p)/2.0)\n",
    "    return norm_dist.ppf(left_tail_area), norm_dist.ppf(upper_area)\n",
    "\n",
    "print(critical_z_value(p=.95))\n",
    "\n",
    "def confidence_interval(p, sample_mean, sample_std, n):\n",
    "    lower, upper = critical_z_value(p)\n",
    "    lower_ci = lower * (sample_std/sqrt(n))\n",
    "    upper_ci = upper * (sample_std/sqrt(n))\n",
    "    \n",
    "    return sample_mean + lower_ci, sample_mean + upper_ci\n",
    "\n",
    "print(confidence_interval(p=.95, sample_mean=mean, sample_std=std, n=sample.size))"
   ]
  },
  {
   "cell_type": "code",
   "execution_count": null,
   "id": "6fc6fd69",
   "metadata": {},
   "outputs": [],
   "source": []
  },
  {
   "cell_type": "code",
   "execution_count": 16,
   "id": "5e401eaf",
   "metadata": {},
   "outputs": [
    {
     "name": "stdout",
     "output_type": "stream",
     "text": [
      "6.7258681808709e-17 1.729132811521367\n"
     ]
    }
   ],
   "source": [
    "from scipy.stats import t\n",
    "\n",
    "n = sample.size\n",
    "lower = t.ppf(0.5, df=n-1)\n",
    "upper = t.ppf(.95, df=n-1)\n",
    "\n",
    "print(lower, upper)"
   ]
  },
  {
   "cell_type": "markdown",
   "id": "c6ef81fe",
   "metadata": {},
   "source": [
    "Ans: D"
   ]
  },
  {
   "cell_type": "markdown",
   "id": "b0c781e2",
   "metadata": {},
   "source": [
    "7) If the mean value is 100 and standard deviation is 15 for a normally distributed sample. Calculate the p-value from the given sample after performing the one sample z-test on the following data. Sample = [88, 92, 84, 64, 96, 97, 67, 97, 96, 99,115, 119, 119, 129, 130, 142, 102, 123, 134, 105]\n",
    "\n",
    "a. 0.30\n",
    "b. 0.32\n",
    "c. 1.30\n",
    "d. 1.03"
   ]
  },
  {
   "cell_type": "code",
   "execution_count": 17,
   "id": "e7b57798",
   "metadata": {},
   "outputs": [
    {
     "name": "stdout",
     "output_type": "stream",
     "text": [
      "70.60054023189917\n",
      "129.39945976810083\n"
     ]
    }
   ],
   "source": [
    "# Two-tailed test\n",
    "from scipy.stats import norm\n",
    "\n",
    "mean = 100\n",
    "std_dev = 15\n",
    "\n",
    "x1 = norm.ppf(.025, mean, std_dev)\n",
    "\n",
    "x2 = norm.ppf(.975, mean, std_dev)\n",
    "\n",
    "print(x1)\n",
    "print(x2)"
   ]
  },
  {
   "cell_type": "code",
   "execution_count": 22,
   "id": "02e675f0",
   "metadata": {},
   "outputs": [
    {
     "name": "stdout",
     "output_type": "stream",
     "text": [
      "0.0455002638963584\n"
     ]
    }
   ],
   "source": [
    "from scipy.stats import norm\n",
    "\n",
    "mean = 100\n",
    "std_dev = 15\n",
    "\n",
    "p1 = norm.cdf(70, mean, std_dev)\n",
    "\n",
    "p2 = 1.0 - norm.cdf(130, mean, std_dev)\n",
    "\n",
    "p_value = p1 + p2\n",
    "\n",
    "print(p_value)"
   ]
  },
  {
   "cell_type": "code",
   "execution_count": 20,
   "id": "58713693",
   "metadata": {},
   "outputs": [
    {
     "name": "stdout",
     "output_type": "stream",
     "text": [
      "20\n",
      "Z-Score : 0.0\n"
     ]
    }
   ],
   "source": [
    "import numpy as np\n",
    "import scipy.stats as stats\n",
    "\n",
    "sample = [88, 92, 84, 64, 96, 97, 67, 97, 96, 99,115, 119, 119, 129, 130, 142, 102, 123, 134, 105]\n",
    "print(len(sample))\n",
    " \n",
    "# Given information\n",
    "sample_mean = 100\n",
    "population_mean = 100\n",
    "population_std = 15\n",
    "sample_size = len(sample)\n",
    "alpha = 0.05\n",
    " \n",
    "# compute the z-score\n",
    "z_score = (sample_mean-population_mean)/(population_std/np.sqrt(50))\n",
    "print('Z-Score :',z_score)"
   ]
  },
  {
   "cell_type": "code",
   "execution_count": 23,
   "id": "18225149",
   "metadata": {},
   "outputs": [
    {
     "data": {
      "text/plain": [
       "(1.0308547928995084, 0.3026089188995713)"
      ]
     },
     "execution_count": 23,
     "metadata": {},
     "output_type": "execute_result"
    }
   ],
   "source": [
    "from statsmodels.stats.weightstats import ztest as ztest\n",
    "\n",
    "#enter IQ levels for 20 patients\n",
    "data = [88, 92, 84, 64, 96, 97, 67, 97, 96, 99,115, 119, 119, 129, 130, 142, 102, 123, 134, 105]\n",
    "\n",
    "#perform one sample z-test\n",
    "ztest(data, value=100)"
   ]
  },
  {
   "cell_type": "markdown",
   "id": "7fcd2791",
   "metadata": {},
   "source": [
    "Ans: A"
   ]
  },
  {
   "cell_type": "markdown",
   "id": "5bc1a3ef",
   "metadata": {},
   "source": [
    "8) To calculate the p-value in a chi squared test, what among the following is not required?\n",
    "\n",
    "a. Alpha Level\n",
    "b. None of the above\n",
    "c. IQR value\n",
    "c. Degrees of freedom"
   ]
  },
  {
   "cell_type": "code",
   "execution_count": null,
   "id": "f0c97229",
   "metadata": {},
   "outputs": [],
   "source": [
    "Ans: C"
   ]
  },
  {
   "cell_type": "markdown",
   "id": "c93d9581",
   "metadata": {},
   "source": [
    "9) If the chi squared value is low, it means that ___?\n",
    "\n",
    "a. Both the sets of data have strong relation.\n",
    "b. Both the sets of data have week relation.\n",
    "c. None of the above\n",
    "d. All of the above"
   ]
  },
  {
   "cell_type": "code",
   "execution_count": null,
   "id": "7763adab",
   "metadata": {},
   "outputs": [],
   "source": [
    "Ans: B"
   ]
  },
  {
   "cell_type": "markdown",
   "id": "8e0fa11c",
   "metadata": {},
   "source": [
    "10) A card is drawn at random from a standard deck of cards. Recall that there are 13 hearts, 13 diamonds, 13 spades and 13 clubs in a standard deck of cards. • Let H be the event that a heart is drawn, • Let R be the event that a red card is drawn and • Let F be the event that a face card is drawn, where the face cards are the kings, queens and jacks. a. If I draw a card at random from the deck of 52, what is P(H)? b. If I draw a card at random from the deck of 52, what is P(F)? c. If I draw a card at random, and without showing you the card, I tell you that the card is red, then what are the chances that it is a face card?\n",
    "\n",
    "a. 0.25, 0.23, 0.23\n",
    "b. 0.50 , 0.25, 0.25\n",
    "c. None of the above\n",
    "d. 0.50, 0.23, 0.23"
   ]
  },
  {
   "cell_type": "code",
   "execution_count": null,
   "id": "c7616eb0",
   "metadata": {},
   "outputs": [],
   "source": [
    "Ans: A"
   ]
  },
  {
   "cell_type": "code",
   "execution_count": null,
   "id": "5ed18848",
   "metadata": {},
   "outputs": [],
   "source": []
  },
  {
   "cell_type": "code",
   "execution_count": null,
   "id": "315c5c0c",
   "metadata": {},
   "outputs": [],
   "source": []
  },
  {
   "cell_type": "code",
   "execution_count": null,
   "id": "3515c267",
   "metadata": {},
   "outputs": [],
   "source": []
  },
  {
   "cell_type": "code",
   "execution_count": null,
   "id": "4bc8379f",
   "metadata": {},
   "outputs": [],
   "source": []
  },
  {
   "cell_type": "code",
   "execution_count": null,
   "id": "3f24a4f5",
   "metadata": {},
   "outputs": [],
   "source": []
  }
 ],
 "metadata": {
  "kernelspec": {
   "display_name": "Python 3 (ipykernel)",
   "language": "python",
   "name": "python3"
  },
  "language_info": {
   "codemirror_mode": {
    "name": "ipython",
    "version": 3
   },
   "file_extension": ".py",
   "mimetype": "text/x-python",
   "name": "python",
   "nbconvert_exporter": "python",
   "pygments_lexer": "ipython3",
   "version": "3.11.4"
  }
 },
 "nbformat": 4,
 "nbformat_minor": 5
}
