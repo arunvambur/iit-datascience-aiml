{
 "cells": [
  {
   "cell_type": "markdown",
   "id": "79b28bcd",
   "metadata": {},
   "source": [
    "Q1. Write a Python program to demonstrate multiple inheritance.\n",
    "1. Employee class has 3 data members EmployeeID, Gender (String), Salary and\n",
    "PerformanceRating(Out of 5) of type int. It has a get() function to get these details from\n",
    "the user.\n",
    "2. JoiningDetail class has a data member DateOfJoining of type Date and a function\n",
    "getDoJ to get the Date of joining of employees.\n",
    "3. Information Class uses the marks from Employee class and the DateOfJoining date\n",
    "from the JoiningDetail class to calculate the top 3 Employees based on their Ratings\n",
    "and then Display, using readData, all the details on these employees in Ascending\n",
    "order of their Date Of Joining."
   ]
  },
  {
   "cell_type": "code",
   "execution_count": 9,
   "id": "fe34f2db",
   "metadata": {},
   "outputs": [
    {
     "name": "stdout",
     "output_type": "stream",
     "text": [
      "No of employees :3\n",
      "<class 'int'>\n",
      "Enter employee details 3 times\n",
      "Enter the following\n",
      "Employee ID: 234\n",
      "Gender :Male\n",
      "Salary: 98374\n",
      "Performance rating :2\n",
      "Date of joining: 2023-01-04\n",
      "Enter the following\n",
      "Employee ID: 98374\n",
      "Gender :Female\n",
      "Salary: 9387\n",
      "Performance rating :5\n",
      "Date of joining: 2023-10-23\n",
      "Enter the following\n",
      "Employee ID: 9384\n",
      "Gender :Male\n",
      "Salary: 98374\n",
      "Performance rating :2\n",
      "Date of joining: 2024-03-01\n",
      "234, Male, 98374, 2, 2023-01-04 00:00:00\n",
      "98374, Female, 9387, 5, 2023-10-23 00:00:00\n",
      "9384, Male, 98374, 2, 2024-03-01 00:00:00\n"
     ]
    }
   ],
   "source": [
    "# Ans: 1\n",
    "\n",
    "from datetime import datetime\n",
    "\n",
    "class Employee:\n",
    "        \n",
    "    def get(self):\n",
    "        print(\"Enter the following\")\n",
    "        self.Employee_Id = input(\"Employee ID: \")\n",
    "        self.Gender = input(\"Gender :\")\n",
    "        self.Salary = input(\"Salary: \")\n",
    "        self.PerformanceRating = input(\"Performance rating :\")\n",
    "    \n",
    "        \n",
    "class JoiningDetail(Employee):\n",
    "    \n",
    "    def getDoJ(self):\n",
    "        date_string = input(\"Date of joining: \")\n",
    "        self.DateOfJoining = datetime.strptime(date_string, '%Y-%m-%d')\n",
    "        \n",
    "    def show(self):\n",
    "        print(f\"{self.Employee_Id}, {self.Gender}, {self.Salary}, {self.PerformanceRating}, {self.DateOfJoining}\")\n",
    "        \n",
    "class Information:\n",
    "    \n",
    "    employeeList = []\n",
    "    \n",
    "    def readData(self, total: int):\n",
    "        print(type(total))\n",
    "        print(f\"Enter employee details {n} times\")\n",
    "        \n",
    "        i: int = 0\n",
    "        while i < total :\n",
    "            \n",
    "            employee = JoiningDetail()\n",
    "            employee.get()\n",
    "            employee.getDoJ()\n",
    "            \n",
    "            self.employeeList.append(employee)\n",
    "            \n",
    "            i += 1\n",
    "            \n",
    "    def show(self):\n",
    "        for i in range(len(self.employeeList)):\n",
    "            self.employeeList[i].show()\n",
    "            \n",
    "        \n",
    "info = Information()\n",
    "n: int\n",
    "n = int(input(\"No of employees :\"))\n",
    "info.readData(n)\n",
    "info.show()"
   ]
  },
  {
   "cell_type": "markdown",
   "id": "2b8973c0",
   "metadata": {},
   "source": [
    "Q.2 Write a Python program to demonstrate Polymorphism.\n",
    "1. Class Vehicle with a parameterized function Fare, that takes input value as fare and\n",
    "returns it to calling Objects.\n",
    "2. Create five separate variables Bus, Car, Train, Truck and Ship that call the Fare\n",
    "function.\n",
    "3. Use a third variable TotalFare to store the sum of fare for each Vehicle Type.\n",
    "4. Print the TotalFare."
   ]
  },
  {
   "cell_type": "code",
   "execution_count": 10,
   "id": "4b58721d",
   "metadata": {},
   "outputs": [
    {
     "name": "stdout",
     "output_type": "stream",
     "text": [
      "2350\n"
     ]
    }
   ],
   "source": [
    "# Ans:2\n",
    "    \n",
    "class Vehicle:\n",
    "    def __init__(self,fare):\n",
    "        self.fare=fare\n",
    "bus=Vehicle(200)\n",
    "car=Vehicle(1000)\n",
    "train=Vehicle(500)\n",
    "ship=Vehicle(250)\n",
    "truck= Vehicle(400)\n",
    "totalfare=bus.fare+car.fare+train.fare+ship.fare+truck.fare\n",
    "print(totalfare)"
   ]
  },
  {
   "cell_type": "markdown",
   "id": "6ef78de3",
   "metadata": {},
   "source": [
    "Q3. Consider an ongoing test cricket series. Following are the names of the players and their\n",
    "scores in the test1 and 2.\n",
    "Test Match 1 :\n",
    "Dhoni : 56 , Balaji : 94\n",
    "Test Match 2 :\n",
    "Balaji : 80 , Dravid : 105\n",
    "Calculate the highest number of runs scored by an individual cricketer in both of the matches.\n",
    "Create a python function Max_Score (M) that reads a dictionary M that recognizes the player\n",
    "with the highest total score. This function will return ( Top player , Total Score ) . You can\n",
    "consider the Top player as String who is the highest scorer and Top score as Integer .\n",
    "Input : Max_Score({‘test1’:{‘Dhoni’:56, ‘Balaji : 85}, ‘test2’:{‘Dhoni’ 87, ‘Balaji’’:200}})\n",
    "Output : (‘Balaji ‘ , 200)"
   ]
  },
  {
   "cell_type": "code",
   "execution_count": 11,
   "id": "5edcacbc",
   "metadata": {},
   "outputs": [
    {
     "name": "stdout",
     "output_type": "stream",
     "text": [
      "Total Run Scored by Each Playes in 2 Tests: \n",
      "{'Dhoni': 143, 'Balaji': 285}\n",
      "Player With highest score\n",
      "('Balaji', 285)\n"
     ]
    }
   ],
   "source": [
    "# Ans: 3\n",
    "\n",
    "M = {\"test1\": {'Dhoni': 56, \"Balaji\": 85}, 'test2': {'Dhoni': 87, 'Balaji': 200}}\n",
    "\n",
    "def Max_Score(d):\n",
    "    total = {}\n",
    "    for k in d.keys():\n",
    "        for n in d[k].keys():\n",
    "            if n in total.keys():\n",
    "                total[n] = total[n] + d[k][n]\n",
    "            else:\n",
    "                total[n] = d[k][n]\n",
    "    print(\"Total Run Scored by Each Playes in 2 Tests: \")\n",
    "    print(total)\n",
    "\n",
    "    print(\"Player With highest score\")\n",
    "    maxtotal = -1\n",
    "    for n in total.keys():\n",
    "        if total[n] > maxtotal:\n",
    "            maxname = n\n",
    "            maxtotal = total[n]\n",
    "\n",
    "    return (maxname, maxtotal)\n",
    "\n",
    "summary = Max_Score(M)\n",
    "print(summary)"
   ]
  },
  {
   "cell_type": "markdown",
   "id": "3dbdfabf",
   "metadata": {},
   "source": [
    "Q4. Create a simple Card game in which there are 8 cards which are randomly chosen from a\n",
    "deck. The first card is shown face up. The game asks the player to predict whether the next card\n",
    "in the selection will have a higher or lower value than the currently showing card.\n",
    "For example, say the card that’s shown is a 3. The player chooses “higher,” and the next card is\n",
    "shown. If that card has a higher value, the player is correct. In this example, if the player had\n",
    "chosen “lower,” they would have been incorrect. If the player guesses correctly, they get 20\n",
    "points. If they choose incorrectly, they lose 15 points. If the next card to be turned over has the\n",
    "same value as the previous card, the player is incorrect."
   ]
  },
  {
   "cell_type": "code",
   "execution_count": 1,
   "id": "af5bac4f",
   "metadata": {},
   "outputs": [
    {
     "name": "stdout",
     "output_type": "stream",
     "text": [
      "Enter -1 to exit\n",
      "Chooose your card: 10\n",
      "You choosed: 10\n",
      "Computer choosed: 6\n",
      "You win\n",
      "Total points earned: 20\n",
      "Chooose your card: 6\n",
      "You choosed: 6\n",
      "Computer choosed: 10\n",
      "Computer win\n",
      "Total points earned: 5\n",
      "Chooose your card: 4\n",
      "You choosed: 4\n",
      "Computer choosed: 7\n",
      "Computer win\n",
      "Total points earned: -10\n",
      "Chooose your card: 8\n",
      "You choosed: 8\n",
      "Computer choosed: 7\n",
      "You win\n",
      "Total points earned: 10\n",
      "Chooose your card: 9\n",
      "You choosed: 9\n",
      "Computer choosed: 1\n",
      "You win\n",
      "Total points earned: 30\n",
      "Chooose your card: -1\n",
      "You choosed: -1\n",
      "Computer choosed: 2\n",
      "Computer win\n",
      "Total points earned: 15\n"
     ]
    }
   ],
   "source": [
    "# Ans: 4\n",
    "\n",
    "import random\n",
    "\n",
    "class CardGame:\n",
    "    \n",
    "    totalCards = 8\n",
    "    pointsEarned = 0\n",
    "    \n",
    "    def __init__(self, totalCards):\n",
    "        self.totalCards = totalCards\n",
    "        \n",
    "    def play(self):\n",
    "        \n",
    "        print(\"Enter -1 to exit\")\n",
    "        userChoice = 0\n",
    "        while userChoice != -1 :\n",
    "            \n",
    "            computerChoice = random.randint(1, self.totalCards)\n",
    "        \n",
    "            userChoice = int(input(\"Chooose your card: \"))\n",
    "            print(f\"You choosed: {userChoice}\")\n",
    "            if userChoice > self.totalCards :\n",
    "                print(f\"Choose card between 1 to {self.totalCards}\")\n",
    "                return\n",
    "\n",
    "            print(f\"Computer choosed: {computerChoice}\")\n",
    "\n",
    "            if userChoice > computerChoice :\n",
    "                print(\"You win\")\n",
    "                self.pointsEarned += 20\n",
    "            else :\n",
    "                print(\"Computer win\")\n",
    "                self.pointsEarned -=15\n",
    "\n",
    "            print(f\"Total points earned: {self.pointsEarned}\")\n",
    "        \n",
    "       \n",
    "        \n",
    "game = CardGame(10)\n",
    "game.play()"
   ]
  },
  {
   "cell_type": "markdown",
   "id": "01b4811b",
   "metadata": {},
   "source": [
    "Q5. Create an empty dictionary called Car_0 . Then fill the dictionary with Keys : color , speed\n",
    ", X_position and Y_position.\n",
    "car_0 = {'x_position': 10, 'y_position': 72, 'speed': 'medium'} .\n",
    "a) If the speed is slow the coordinates of the X_pos get incremented by 2.\n",
    "b) If the speed is Medium the coordinates of the X_pos gets incremented by 9\n",
    "c) Now if the speed is Fast the coordinates of the X_pos gets incremented by 22.\n",
    "Print the modified dictionary."
   ]
  },
  {
   "cell_type": "code",
   "execution_count": 5,
   "id": "6a097fcd",
   "metadata": {},
   "outputs": [
    {
     "name": "stdout",
     "output_type": "stream",
     "text": [
      "Original position: 10\n",
      "New position = 19\n"
     ]
    }
   ],
   "source": [
    "# Ans: 5\n",
    "\n",
    "car_0 = {}\n",
    "car_0 = { 'x_position': 10, 'y_position': 72, 'speed': 'medium', 'color':'red' } \n",
    "\n",
    "print(f\"Original position: {car_0['x_position']}\")\n",
    "\n",
    "if car_0['speed'] =='slow':\n",
    "    x_increment = 2\n",
    "elif car_0['speed'] =='medium':\n",
    "    x_increment = 9\n",
    "elif car_0['speed'] == 'fast':\n",
    "    x_increment = 22\n",
    "    \n",
    "car_0['x_position'] = car_0['x_position'] + x_increment\n",
    "\n",
    "print(f\"New position = {car_0['x_position']}\")"
   ]
  },
  {
   "cell_type": "markdown",
   "id": "a4245a22",
   "metadata": {},
   "source": [
    "Q6. Show a basic implementation of abstraction in python using the abstract classes.\n",
    "1. Create an abstract class in python.\n",
    "2. Implement abstraction with the other classes and base class as abstract class."
   ]
  },
  {
   "cell_type": "code",
   "execution_count": 7,
   "id": "d1e7c65b",
   "metadata": {},
   "outputs": [
    {
     "name": "stdout",
     "output_type": "stream",
     "text": [
      "abstraction\n",
      "Hello\n"
     ]
    }
   ],
   "source": [
    "# Ans: 6\n",
    "\n",
    "class parent:\n",
    "    \n",
    "    def __init__(self):\n",
    "        self.name=\"Ajay\"\n",
    "    def display(self):\n",
    "        print(self. name)\n",
    "        \n",
    "class child(parent):\n",
    "    def __init__(self):\n",
    "        self.a=10\n",
    "    def show(self):\n",
    "        print(self.name)\n",
    "        \n",
    "from abc import ABC,abstractmethod\n",
    "\n",
    "class parent(ABC):\n",
    "    @abstractmethod\n",
    "    def abstract_method(self):\n",
    "        pass\n",
    "\n",
    "class child(parent):\n",
    "    def abstract_method(self):\n",
    "        print(\"abstraction\")\n",
    "    def display(self):\n",
    "        print(\"Hello\")\n",
    "        \n",
    "obj = child()\n",
    "\n",
    "obj.abstract_method()\n",
    "\n",
    "obj.display()\n",
    "\n"
   ]
  },
  {
   "cell_type": "markdown",
   "id": "a3306efb",
   "metadata": {},
   "source": [
    "Q7. Create a program in python to demonstrate Polymorphism.\n",
    "1. Make use of private and protected members using python name mangling techniques."
   ]
  },
  {
   "cell_type": "code",
   "execution_count": 8,
   "id": "5e86d9fd",
   "metadata": {},
   "outputs": [
    {
     "name": "stdout",
     "output_type": "stream",
     "text": [
      "New Delhi is the capital of India.\n",
      "many places are explored in India.\n",
      "It is a developing country.\n",
      "Washington, D.C. is the capital of USA.\n",
      "many places are explored in USA.\n",
      "It is a developed country.\n"
     ]
    }
   ],
   "source": [
    "# Ans: 7\n",
    "\n",
    "class India:\n",
    "    def capital(self):\n",
    "        print(\"New Delhi is the capital of India.\")\n",
    " \n",
    "    def places(self):\n",
    "        print(\"many places are explored in India.\")\n",
    "        \n",
    "    def status(self):\n",
    "        print(\"It is a developing country.\")\n",
    "        \n",
    "class USA:\n",
    "    def capital(self):\n",
    "        print(\"Washington, D.C. is the capital of USA.\")\n",
    " \n",
    "    def places(self):\n",
    "        print(\"many places are explored in USA.\")\n",
    "        \n",
    "    def status(self):\n",
    "        print(\"It is a developed country.\")\n",
    "\n",
    "\n",
    "obj1 = India()\n",
    "obj2 = USA()\n",
    "for country in (obj1, obj2):\n",
    "    country.capital()\n",
    "    country.places()\n",
    "    country.status() "
   ]
  },
  {
   "cell_type": "markdown",
   "id": "1a0fa10a",
   "metadata": {},
   "source": [
    "Q8. Given a list of 50 natural numbers from 1-50. Create a function that will take every element\n",
    "from the list and return the square of each element. Use the python map and filter methods to\n",
    "implement the function on the given list."
   ]
  },
  {
   "cell_type": "code",
   "execution_count": 9,
   "id": "932c46cd",
   "metadata": {},
   "outputs": [
    {
     "name": "stdout",
     "output_type": "stream",
     "text": [
      "[1, 4, 9, 16, 25, 36, 49, 64, 81, 100, 121, 144, 169, 196, 225, 256, 289, 324, 361, 400, 441, 484, 529, 576, 625, 676, 729, 784, 841, 900, 961, 1024, 1089, 1156, 1225, 1296, 1369, 1444, 1521, 1600, 1681, 1764, 1849, 1936, 2025, 2116, 2209, 2304, 2401, 2500]\r\n",
      "\n"
     ]
    }
   ],
   "source": [
    "# Ans: 8\n",
    "\n",
    "x = range(1,51)\n",
    "sq_no = list(map(lambda n:n**2,x))\n",
    "\n",
    "print(f\"{sq_no}\\r\\n\")"
   ]
  },
  {
   "cell_type": "code",
   "execution_count": null,
   "id": "e785ad03",
   "metadata": {},
   "outputs": [],
   "source": [
    "Q9. Create a class, Triangle. Its init() method should take self, angle1, angle2, and angle3 as\n",
    "arguments."
   ]
  },
  {
   "cell_type": "code",
   "execution_count": 12,
   "id": "00133778",
   "metadata": {},
   "outputs": [
    {
     "name": "stdout",
     "output_type": "stream",
     "text": [
      "shape: Triangle, angle1: 100, angle2: 100, angle3: 100\n"
     ]
    }
   ],
   "source": [
    "# Ans: 9\n",
    "class Triangle:\n",
    "    def __init__(self, angle1, angle2, angle3):\n",
    "        self.shape = \"Triangle\"\n",
    "        self.angle1 = angle1\n",
    "        self.angle2 = angle2\n",
    "        self.angle3 = angle3\n",
    "        \n",
    "    def showDetails(self):\n",
    "        print(f\"shape: {self.shape}, angle1: {self.angle1}, angle2: {self.angle2}, angle3: {self.angle3}\")\n",
    "        \n",
    "tri = Triangle(100, 100, 100)\n",
    "tri.showDetails();"
   ]
  },
  {
   "cell_type": "code",
   "execution_count": null,
   "id": "4349b4e1",
   "metadata": {},
   "outputs": [],
   "source": [
    "Q10. Create a class variable named number_of_sides and set it equal to 3."
   ]
  },
  {
   "cell_type": "code",
   "execution_count": 14,
   "id": "9acbfe99",
   "metadata": {},
   "outputs": [
    {
     "name": "stdout",
     "output_type": "stream",
     "text": [
      "no_of_sides: 3\n"
     ]
    }
   ],
   "source": [
    "# Ans: 10\n",
    "\n",
    "class variable:\n",
    "    def __init__(self):\n",
    "        self.no_of_sides = 3\n",
    "        \n",
    "    def showDetails(self):\n",
    "        print(f\"no_of_sides: {self.no_of_sides}\")\n",
    "        \n",
    "var = variable()\n",
    "var.showDetails()"
   ]
  },
  {
   "cell_type": "code",
   "execution_count": null,
   "id": "11acfb60",
   "metadata": {},
   "outputs": [],
   "source": [
    "Q11. Create a method named check_angles. The sum of a triangle's three angles should return\n",
    "True if the sum is equal to 180, and False otherwise. The method should print whether the\n",
    "angles belong to a triangle or not."
   ]
  },
  {
   "cell_type": "code",
   "execution_count": 15,
   "id": "f742e2a2",
   "metadata": {},
   "outputs": [
    {
     "name": "stdout",
     "output_type": "stream",
     "text": [
      "True\n",
      "Not an acute triangle\n",
      "Obtuse angle\n"
     ]
    }
   ],
   "source": [
    "# Ans: 11\n",
    "\n",
    "class triangle:\n",
    "    def __init__(self,angle1,angle2,angle3):\n",
    "        self.angle1 = angle1\n",
    "        self.angle2 = angle2\n",
    "        self.angle3 = angle3\n",
    "        \n",
    "    def checktriangle(self):\n",
    "        if self.angle1 == 60 and self.angle2 == 60 and self.angle3 == 60:\n",
    "            print(\"True\")\n",
    "        else:\n",
    "            print(\"False\")\n",
    "        \n",
    "    def check_acuteangle(self):\n",
    "        if self.angle1 < 90 and self.angle2 < 90 and self.angle3 < 90:\n",
    "            print(\"Acute triangle\")\n",
    "        else:\n",
    "            print(\"Not an acute triangle\")\n",
    "    \n",
    "    def check_obtuseangle(self):\n",
    "        if self.angle1 > 90 and self.angle2 < 180:\n",
    "            print(\"Obtuse angle\")\n",
    "        else:\n",
    "            print(\"Not an Obtuse angle\")\n",
    "            \n",
    "obj = triangle(60, 60, 60)\n",
    "obj.checktriangle()\n",
    "\n",
    "\n",
    "obj1 = triangle(120, 140, 90)\n",
    "obj1.check_acuteangle()\n",
    "\n",
    "obj2 = triangle(120, 140, 90)\n",
    "obj2.check_obtuseangle()"
   ]
  },
  {
   "cell_type": "markdown",
   "id": "e9f0a574",
   "metadata": {},
   "source": [
    "11.1 Write methods to verify if the triangle is an acute triangle or obtuse triangle.\n",
    "11.2 Create an instance of the triangle class and call all the defined methods.\n",
    "11.3 Create three child classes of triangle class - isosceles_triangle, right_triangle and\n",
    "equilateral_triangle.\n",
    "11.4 Define methods which check for their properties"
   ]
  },
  {
   "cell_type": "code",
   "execution_count": 16,
   "id": "7628aa62",
   "metadata": {},
   "outputs": [
    {
     "name": "stdout",
     "output_type": "stream",
     "text": [
      "true\n",
      "True\n",
      "true\n"
     ]
    }
   ],
   "source": [
    "# Ans:11.2,.3,.4\n",
    "\n",
    "class triangle:\n",
    "    def __init__(self,angle1,angle2,angle3):\n",
    "        self.angle1 = angle1\n",
    "        self.angle2 = angle2\n",
    "        self.angle3 = angle3\n",
    "        \n",
    "class isoceles_triangle(triangle):\n",
    "    def __init__ (self,angle1,angle2,angle3):\n",
    "        super().__init__(angle1,angle2,angle3)\n",
    "    def check(self):\n",
    "        if self.angle1 == self.angle2 == self.angle3 == 60:\n",
    "            print(\"true\")\n",
    "        else :\n",
    "            print(\"false\")\n",
    "            \n",
    "class right_triangle(triangle):\n",
    "    def __init__ (self,angle1,angle2,angle3):\n",
    "        super().__init__(angle1,angle2,angle3)\n",
    "    \n",
    "    def check(self):\n",
    "        if self.angle1 == 90 or self.angle2 == 90 or self.angle3 == 90:\n",
    "            print(\"True\")\n",
    "        else:\n",
    "            print(\"False\")\n",
    "        \n",
    "class equilateral_triangle(triangle):\n",
    "    def __init__(self,angle1,angle2,angle3):\n",
    "        super().__init__(angle1,angle2,angle3)\n",
    "    def check(self):\n",
    "        if self.angle1 == self.angle2 == self.angle3 == 60:\n",
    "            print(\"true\")\n",
    "        else :\n",
    "            print(\"false\")\n",
    "    \n",
    "obj1 = isoceles_triangle(60,60,60)\n",
    "\n",
    "obj1.check()\n",
    "    \n",
    "obj2 = right_triangle(90,30,60)\n",
    "\n",
    "obj2.check()\n",
    "\n",
    "obj3 = equilateral_triangle(60,60,60)\n",
    "\n",
    "obj3.check()"
   ]
  },
  {
   "cell_type": "markdown",
   "id": "4d66db86",
   "metadata": {},
   "source": [
    "Q12. Create a class isosceles_right_triangle which inherits from isosceles_triangle and\n",
    "right_triangle.\n",
    "12.1 Define methods which check for their properties"
   ]
  },
  {
   "cell_type": "code",
   "execution_count": 17,
   "id": "8afb0d1f",
   "metadata": {},
   "outputs": [
    {
     "name": "stdout",
     "output_type": "stream",
     "text": [
      "true\n",
      "True\n",
      "It is bound to the properties \n"
     ]
    }
   ],
   "source": [
    "# Ans: 12\n",
    "\n",
    "class isocelestriangle():\n",
    "    def __init__ (self,angle1,angle2,angle3):\n",
    "        self.angle1 = angle1\n",
    "        self.angle2 = angle2\n",
    "        self.angle3 = angle3\n",
    "    def check(self):\n",
    "        if self.angle1 == self.angle2 == self.angle3 == 60:\n",
    "            print(\"true\")\n",
    "        else :\n",
    "            print(\"false\")\n",
    "            \n",
    "class right_triangle():\n",
    "    def __init__ (self,angle1,angle2,angle3):\n",
    "        self.angle1 = angle1\n",
    "        self.angle2 = angle2\n",
    "        self.angle3 = angle3    \n",
    "    def check(self):\n",
    "        if self.angle1 == 90 or self.angle2 == 90 or self.angle3 == 90:\n",
    "            print(\"True\")\n",
    "        else:\n",
    "            print(\"False\")\n",
    "            \n",
    "class isoceles_rightangle(isocelestriangle,right_triangle):\n",
    "    \n",
    "    def check():\n",
    "        if isocelestriangle == True and right_triangle == true:\n",
    "            print(\"True\")\n",
    "        else:\n",
    "            print(\"It is bound to the properties \")\n",
    "            \n",
    "obj1 = isoceles_triangle(60,60,60)\n",
    "\n",
    "obj1.check()\n",
    "    \n",
    "obj2 = right_triangle(90,30,60)\n",
    "\n",
    "obj2.check()\n",
    "\n",
    "obj3 = isoceles_rightangle\n",
    "\n",
    "obj3.check()"
   ]
  },
  {
   "cell_type": "code",
   "execution_count": null,
   "id": "ca4c9691",
   "metadata": {},
   "outputs": [],
   "source": []
  }
 ],
 "metadata": {
  "kernelspec": {
   "display_name": "Python 3 (ipykernel)",
   "language": "python",
   "name": "python3"
  },
  "language_info": {
   "codemirror_mode": {
    "name": "ipython",
    "version": 3
   },
   "file_extension": ".py",
   "mimetype": "text/x-python",
   "name": "python",
   "nbconvert_exporter": "python",
   "pygments_lexer": "ipython3",
   "version": "3.11.4"
  }
 },
 "nbformat": 4,
 "nbformat_minor": 5
}
