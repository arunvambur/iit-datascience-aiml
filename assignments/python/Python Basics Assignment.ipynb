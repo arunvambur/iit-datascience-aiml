{
 "cells": [
  {
   "cell_type": "markdown",
   "id": "07206170",
   "metadata": {},
   "source": [
    "Q1. Using Python script as a calculator\n",
    "Create the variables n, r, p and assign them values 10, 5, and 100 respectively. Then\n",
    "evaluate the following expression in the Python console.\n",
    "𝐴 = 𝑝 (1 + 𝑟/ 100)n\n",
    "a. 100\n",
    "b. 162.89\n",
    "c. 189\n",
    "d. None of the above"
   ]
  },
  {
   "cell_type": "code",
   "execution_count": 7,
   "id": "ca190035",
   "metadata": {},
   "outputs": [
    {
     "name": "stdout",
     "output_type": "stream",
     "text": [
      "1.6288946267774416e+20\n"
     ]
    }
   ],
   "source": [
    "n = 10\n",
    "r = 5\n",
    "p = 100\n",
    "\n",
    "𝐴 = pow((𝑝 * (1 + 𝑟/ 100)), n)\n",
    "print(A)"
   ]
  },
  {
   "cell_type": "markdown",
   "id": "44f64677",
   "metadata": {},
   "source": [
    "**Ans: d. None of the above"
   ]
  },
  {
   "cell_type": "markdown",
   "id": "13d29bde",
   "metadata": {},
   "source": [
    "Q2. In a given string format operation, how will you print the given string.\n",
    "A = 10\n",
    "B = 20\n",
    "Str = \"There are {} students in the class, with {} who play at least one sport.\"\n",
    "a. print(string.format(a,b))\n",
    "b. print(string+a+b)\n",
    "c. print(string.format(b,a))\n",
    "d. None of the above"
   ]
  },
  {
   "cell_type": "code",
   "execution_count": 10,
   "id": "e646bc45",
   "metadata": {},
   "outputs": [
    {
     "name": "stdout",
     "output_type": "stream",
     "text": [
      "There are 10 students in the class, with 20 who play at least one sport.\n"
     ]
    }
   ],
   "source": [
    "a = 10\n",
    "b = 20\n",
    "Str = \"There are {} students in the class, with {} who play at least one sport.\"\n",
    "print(Str.format(a,b))"
   ]
  },
  {
   "cell_type": "markdown",
   "id": "7ddfa61e",
   "metadata": {},
   "source": [
    "**Ans: a. print(string.format(a,b))"
   ]
  },
  {
   "cell_type": "markdown",
   "id": "8cb3c433",
   "metadata": {},
   "source": [
    "Q3. In a given sample string, How do you print a double quoted string in between a\n",
    "regular string using the escape character?\n",
    "Sample output = It goes without saying, “Time is Money”, and none can deny it.\n",
    "a. print(“It goes without saying, \\“Time is Money\\”, and none can deny it.”)\n",
    "b. print(“It goes without saying, \\Time is Money\\, and none can deny it.”)\n",
    "c. print(“It goes without saying” + “Time is Money” + “and none can deny it.”)\n",
    "d. None of the above."
   ]
  },
  {
   "cell_type": "code",
   "execution_count": 13,
   "id": "73f3c457",
   "metadata": {},
   "outputs": [
    {
     "name": "stdout",
     "output_type": "stream",
     "text": [
      "It goes without saying, \"Time is Money\", and none can deny it.\n"
     ]
    }
   ],
   "source": [
    "print(\"It goes without saying, \\\"Time is Money\\\", and none can deny it.\")"
   ]
  },
  {
   "cell_type": "markdown",
   "id": "832ee80a",
   "metadata": {},
   "source": [
    "**Ans: a. print(“It goes without saying, \\“Time is Money\\”, and none can deny it.”)"
   ]
  },
  {
   "cell_type": "markdown",
   "id": "4c786d83",
   "metadata": {},
   "source": [
    "Q4. What will be the output of the following code?\n",
    "x = lambda a,b: a//b\n",
    "x(10,3)\n",
    "a. 3.3333333333\n",
    "b. 3\n",
    "c. 30\n",
    "d. 1000"
   ]
  },
  {
   "cell_type": "code",
   "execution_count": 14,
   "id": "4693f54b",
   "metadata": {},
   "outputs": [
    {
     "data": {
      "text/plain": [
       "3"
      ]
     },
     "execution_count": 14,
     "metadata": {},
     "output_type": "execute_result"
    }
   ],
   "source": [
    "x = lambda a,b: a//b\n",
    "x(10,3)"
   ]
  },
  {
   "cell_type": "markdown",
   "id": "dd57f6c3",
   "metadata": {},
   "source": [
    "**Ans: b. 3"
   ]
  },
  {
   "cell_type": "markdown",
   "id": "66f5650a",
   "metadata": {},
   "source": [
    "Q5. What will be the output of the following code?\n",
    "A = 10\n",
    "B = 12\n",
    "print(\"Smaller\") if A == B else print(\"Greater\") if A < B else print(\"True\")\n",
    "a. True\n",
    "b. Smaller\n",
    "c. Greater\n",
    "d. None of the above"
   ]
  },
  {
   "cell_type": "code",
   "execution_count": 15,
   "id": "39a01648",
   "metadata": {},
   "outputs": [
    {
     "name": "stdout",
     "output_type": "stream",
     "text": [
      "Greater\n"
     ]
    }
   ],
   "source": [
    "A = 10\n",
    "B = 12\n",
    "print(\"Smaller\") if A == B else print(\"Greater\") if A < B else print(\"True\")"
   ]
  },
  {
   "cell_type": "markdown",
   "id": "f84350c7",
   "metadata": {},
   "source": [
    "**Ans: c. Greater"
   ]
  },
  {
   "cell_type": "markdown",
   "id": "b708c146",
   "metadata": {},
   "source": [
    "Q6. What will be the output of the following code?\n",
    "a. [2 7 3 5 4 6]\n",
    "b. TypeError\n",
    "c. NameError: name 'numpy' is not defined\n",
    "d. None of the abov"
   ]
  },
  {
   "cell_type": "code",
   "execution_count": 16,
   "id": "a2f67d4b",
   "metadata": {},
   "outputs": [
    {
     "name": "stdout",
     "output_type": "stream",
     "text": [
      "[2, 7, 3, 5, 4, 6]\n"
     ]
    },
    {
     "ename": "NameError",
     "evalue": "name 'numpy' is not defined",
     "output_type": "error",
     "traceback": [
      "\u001b[1;31m---------------------------------------------------------------------------\u001b[0m",
      "\u001b[1;31mNameError\u001b[0m                                 Traceback (most recent call last)",
      "Cell \u001b[1;32mIn[16], line 6\u001b[0m\n\u001b[0;32m      4\u001b[0m my_list1 \u001b[38;5;241m=\u001b[39m [\u001b[38;5;241m2\u001b[39m, \u001b[38;5;241m7\u001b[39m, \u001b[38;5;241m3\u001b[39m, \u001b[38;5;241m5\u001b[39m, \u001b[38;5;241m4\u001b[39m, \u001b[38;5;241m6\u001b[39m]\n\u001b[0;32m      5\u001b[0m \u001b[38;5;28mprint\u001b[39m(my_list1)\n\u001b[1;32m----> 6\u001b[0m arr_1 \u001b[38;5;241m=\u001b[39m numpy\u001b[38;5;241m.\u001b[39marray(my_list1, dtype \u001b[38;5;241m=\u001b[39m \u001b[38;5;28mint\u001b[39m)\n\u001b[0;32m      7\u001b[0m \u001b[38;5;28mprint\u001b[39m(arr1)\n",
      "\u001b[1;31mNameError\u001b[0m: name 'numpy' is not defined"
     ]
    }
   ],
   "source": [
    "import os\n",
    "import numpy as np\n",
    "\n",
    "my_list1 = [2, 7, 3, 5, 4, 6]\n",
    "print(my_list1)\n",
    "arr_1 = numpy.array(my_list1, dtype = int)\n",
    "print(arr1)"
   ]
  },
  {
   "cell_type": "markdown",
   "id": "810f0608",
   "metadata": {},
   "source": [
    "**Ans: c. NameError: name 'numpy' is not defined"
   ]
  },
  {
   "cell_type": "code",
   "execution_count": null,
   "id": "ae5a028f",
   "metadata": {},
   "outputs": [],
   "source": [
    "Q7. Create a string called ‘string’ with the value as “Machine Learning”. Which code(s)\n",
    "is/are appropriate to slice the substring “Learn”?\n",
    "a. string[slice(13,8,1)]\n",
    "b. string[slice(1,8,1)]\n",
    "c. string[8:14]\n",
    "d. string[slice(8,13,1)]"
   ]
  },
  {
   "cell_type": "code",
   "execution_count": 20,
   "id": "7e479465",
   "metadata": {},
   "outputs": [
    {
     "name": "stdout",
     "output_type": "stream",
     "text": [
      "Learn\n"
     ]
    }
   ],
   "source": [
    "string = \"Machine Learning\"\n",
    "print(string[slice(8,13,1)])"
   ]
  },
  {
   "cell_type": "markdown",
   "id": "20942a8f",
   "metadata": {},
   "source": [
    "**Ans: d. string[slice(8,13,1)]"
   ]
  },
  {
   "cell_type": "markdown",
   "id": "dee92661",
   "metadata": {},
   "source": [
    "Q8. Create a sequence of numbers from 10 to 25 and increment by 4. What is the index\n",
    "of the\n",
    "value 18?\n",
    "a. 3\n",
    "b. 2\n",
    "c. 0\n",
    "d. 1"
   ]
  },
  {
   "cell_type": "code",
   "execution_count": 33,
   "id": "e9e217e1",
   "metadata": {},
   "outputs": [
    {
     "name": "stdout",
     "output_type": "stream",
     "text": [
      "[10, 14, 18, 22]\n",
      "18\n"
     ]
    }
   ],
   "source": [
    "sequence = list(range(10, 25, 4))\n",
    "print(sequence)\n",
    "    \n",
    "print(sequence[2])"
   ]
  },
  {
   "cell_type": "markdown",
   "id": "2ef34e0d",
   "metadata": {},
   "source": [
    "**Ans: b. 2"
   ]
  },
  {
   "cell_type": "markdown",
   "id": "ef820692",
   "metadata": {},
   "source": [
    "Q9. Which of the following is true with respect to the below codes?\n",
    "a. num1 = num2\n",
    "b. num1 ≠ num2\n",
    "c. num1 < num2\n",
    "d. num1 > num2\n"
   ]
  },
  {
   "cell_type": "code",
   "execution_count": 34,
   "id": "869c7eb1",
   "metadata": {},
   "outputs": [
    {
     "name": "stdout",
     "output_type": "stream",
     "text": [
      "625 625\n"
     ]
    }
   ],
   "source": [
    "num1 = 5**4\n",
    "num2 = pow(5, 4)\n",
    "print(num1, num2)"
   ]
  },
  {
   "cell_type": "markdown",
   "id": "d74d7342",
   "metadata": {},
   "source": [
    "**Ans: a. num1 = num2"
   ]
  },
  {
   "cell_type": "markdown",
   "id": "2a4492ee",
   "metadata": {},
   "source": [
    "Q10.A Python NameError exception is raised when: -\n",
    "a. Trying to access a variable which has not been defined\n",
    "b. Trying to access a key in a dictionary that does not exist\n",
    "c. Accessing a column with misspelled column name\n",
    "d. Accessing the function from a module that has not been imported"
   ]
  },
  {
   "cell_type": "markdown",
   "id": "3236d032",
   "metadata": {},
   "source": [
    "**Ans: a. Trying to access a variable which has not been defined"
   ]
  },
  {
   "cell_type": "markdown",
   "id": "f363f7f6",
   "metadata": {},
   "source": [
    "Q11.What type of exception will be raised for the code given below?\n",
    "a. NameError\n",
    "b. KeyError\n",
    "c. ValueError\n",
    "d. AttributeError\n"
   ]
  },
  {
   "cell_type": "code",
   "execution_count": 35,
   "id": "77e27f56",
   "metadata": {},
   "outputs": [
    {
     "ename": "ValueError",
     "evalue": "invalid literal for int() with base 10: 'string'",
     "output_type": "error",
     "traceback": [
      "\u001b[1;31m---------------------------------------------------------------------------\u001b[0m",
      "\u001b[1;31mValueError\u001b[0m                                Traceback (most recent call last)",
      "Cell \u001b[1;32mIn[35], line 2\u001b[0m\n\u001b[0;32m      1\u001b[0m x \u001b[38;5;241m=\u001b[39m \u001b[38;5;124m\"\u001b[39m\u001b[38;5;124mstring\u001b[39m\u001b[38;5;124m\"\u001b[39m\n\u001b[1;32m----> 2\u001b[0m \u001b[38;5;28mint\u001b[39m(x)\n",
      "\u001b[1;31mValueError\u001b[0m: invalid literal for int() with base 10: 'string'"
     ]
    }
   ],
   "source": [
    "x = \"string\"\n",
    "int(x)"
   ]
  },
  {
   "cell_type": "markdown",
   "id": "054b03d4",
   "metadata": {},
   "source": [
    "**Ans: c. ValueError"
   ]
  },
  {
   "cell_type": "markdown",
   "id": "52c68f02",
   "metadata": {},
   "source": [
    "Q12.A FileNotFoundError exception is raised by operating system errors when: -\n",
    "a. Trying to create a file or directory which already exists\n",
    "b. A file or directory is requested but does not exist in the working directory\n",
    "c. Trying to run an operation without the adequate access rights\n",
    "d. A directory operation, os.listdir() is requested on something which is not a\n",
    "directory"
   ]
  },
  {
   "cell_type": "markdown",
   "id": "a7a5add5",
   "metadata": {},
   "source": [
    "**Ans: b. A file or directory is requested but does not exist in the working directory"
   ]
  },
  {
   "cell_type": "markdown",
   "id": "c022b0c8",
   "metadata": {},
   "source": [
    "Q13.Consider a variable Z. The value of Z is \"ID-5632\". Data type of Z is: -\n",
    "a. Complex\n",
    "b. Character\n",
    "c. Integer\n",
    "d. Boolean\n"
   ]
  },
  {
   "cell_type": "code",
   "execution_count": 36,
   "id": "cdbf9c7a",
   "metadata": {},
   "outputs": [
    {
     "name": "stdout",
     "output_type": "stream",
     "text": [
      "<class 'str'>\n"
     ]
    }
   ],
   "source": [
    "z = \"ID-5632\"\n",
    "print(type(z))"
   ]
  },
  {
   "cell_type": "markdown",
   "id": "95716908",
   "metadata": {},
   "source": [
    "**Ans: b. Character"
   ]
  },
  {
   "cell_type": "markdown",
   "id": "b9a2dba4",
   "metadata": {},
   "source": [
    "Q14.Which of the following variable(s) are character data type?\n",
    "a. K= “4”\n",
    "b. J= “Welcome”\n",
    "c. L= “?”\n",
    "d. All of the above"
   ]
  },
  {
   "cell_type": "markdown",
   "id": "da2a31ec",
   "metadata": {},
   "source": [
    "**Ans: d. All of the above"
   ]
  },
  {
   "cell_type": "markdown",
   "id": "d4b0b2b1",
   "metadata": {},
   "source": [
    "Q15.Choose the symbol/s that does not have the ability to convert any values to string?\n",
    "a. ( )\n",
    "b. “ ”\n",
    "c. {}\n",
    "d. #"
   ]
  },
  {
   "cell_type": "markdown",
   "id": "6df13a17",
   "metadata": {},
   "source": [
    "**Ans: d. #"
   ]
  },
  {
   "cell_type": "markdown",
   "id": "f1774332",
   "metadata": {},
   "source": [
    "Q16.Create a dictionary ‘Country’ that maps the following countries to their capitals\n",
    "respectively:\n",
    "Country India China Japan Qatar France\n",
    "State Delhi Beijing Tokyo Doha Marseilles\n",
    "Find 2 commands to replace “Marseilles” with “Paris” is"
   ]
  },
  {
   "cell_type": "code",
   "execution_count": 39,
   "id": "9d11ae5a",
   "metadata": {},
   "outputs": [
    {
     "name": "stdout",
     "output_type": "stream",
     "text": [
      "Marseilles\n",
      "Paris\n",
      "Paris\n"
     ]
    }
   ],
   "source": [
    "Country = {\n",
    "  \"India\": \"Delhi\",\n",
    "  \"China\": \"Beijing\",\n",
    "  \"Japan\": \"Tokoyo\",\n",
    "  \"Qatar\": \"Doha\",\n",
    "  \"France\": \"Marseilles\"\n",
    "}\n",
    "\n",
    "print(Country[\"France\"])\n",
    "\n",
    "Country[\"France\"] = \"Paris\"\n",
    "\n",
    "print(Country[\"France\"])\n",
    "\n",
    "Country |= {'France': 'Paris'}\n",
    "\n",
    "print(Country[\"France\"])"
   ]
  },
  {
   "cell_type": "markdown",
   "id": "cbc78e20",
   "metadata": {},
   "source": [
    "Q17. Create the tuples given below\n",
    "tuple_1 = (1,5,6,7,8)\n",
    "tuple_2 = (8,9,4)\n",
    "Identify which of the following code does not work on a tuple.\n",
    "a. sum(tuple_1)\n",
    "b. len(tuple_2)\n",
    "c. tuple_2 + tuple_1\n",
    "d. tuple_1[3] = 45"
   ]
  },
  {
   "cell_type": "code",
   "execution_count": 41,
   "id": "f23f4f51",
   "metadata": {},
   "outputs": [
    {
     "data": {
      "text/plain": [
       "(8, 9, 4, 1, 5, 6, 7, 8)"
      ]
     },
     "execution_count": 41,
     "metadata": {},
     "output_type": "execute_result"
    }
   ],
   "source": [
    "tuple_1 = (1,5,6,7,8)\n",
    "tuple_2 = (8,9,4)\n",
    "\n",
    "sum(tuple_1)\n",
    "len(tuple_2)\n",
    "tuple_2 + tuple_1\n",
    "#tuple_1[3] = 45"
   ]
  },
  {
   "cell_type": "markdown",
   "id": "138850a0",
   "metadata": {},
   "source": [
    "**Ans: d. tuple_1[3] = 45"
   ]
  },
  {
   "cell_type": "markdown",
   "id": "4c7b13b1",
   "metadata": {},
   "source": [
    "Q18. How many elements in the following data structure?\n"
   ]
  },
  {
   "cell_type": "code",
   "execution_count": 42,
   "id": "1048a661",
   "metadata": {},
   "outputs": [
    {
     "name": "stdout",
     "output_type": "stream",
     "text": [
      "6\n"
     ]
    }
   ],
   "source": [
    "s = {1, 2, 3, 4, 4, 4, 5, 6}\n",
    "print(len(s))"
   ]
  },
  {
   "cell_type": "markdown",
   "id": "2aae8b44",
   "metadata": {},
   "source": [
    "Q19.Write a function which finds all pythagorean triplets of triangles whose sides are no\n",
    "greater than a natural number N."
   ]
  },
  {
   "cell_type": "code",
   "execution_count": 48,
   "id": "64a8c526",
   "metadata": {},
   "outputs": [
    {
     "name": "stdout",
     "output_type": "stream",
     "text": [
      "Enter upper limit:30\n",
      "3 4 5\n",
      "8 6 10\n",
      "5 12 13\n",
      "15 8 17\n",
      "12 16 20\n",
      "7 24 25\n"
     ]
    }
   ],
   "source": [
    "limit=int(input(\"Enter upper limit:\"))\n",
    "c=0\n",
    "m=2\n",
    "while(c<limit):\n",
    "    for n in range(1,m+1):\n",
    "        a=m*m-n*n\n",
    "        b=2*m*n\n",
    "        c=m*m+n*n\n",
    "        if(c>limit):\n",
    "            break\n",
    "        if(a==0 or b==0 or c==0):\n",
    "            break\n",
    "        print(a,b,c)\n",
    "    m=m+1"
   ]
  },
  {
   "cell_type": "code",
   "execution_count": null,
   "id": "4ee28d38",
   "metadata": {},
   "outputs": [],
   "source": []
  }
 ],
 "metadata": {
  "kernelspec": {
   "display_name": "Python 3 (ipykernel)",
   "language": "python",
   "name": "python3"
  },
  "language_info": {
   "codemirror_mode": {
    "name": "ipython",
    "version": 3
   },
   "file_extension": ".py",
   "mimetype": "text/x-python",
   "name": "python",
   "nbconvert_exporter": "python",
   "pygments_lexer": "ipython3",
   "version": "3.11.4"
  }
 },
 "nbformat": 4,
 "nbformat_minor": 5
}
