{
 "cells": [
  {
   "cell_type": "code",
   "execution_count": 21,
   "id": "b87adce5-6145-49d5-b58d-926814e40bec",
   "metadata": {},
   "outputs": [],
   "source": [
    "import pandas as pd\n",
    "import numpy as np\n",
    "import matplotlib.pyplot as plt"
   ]
  },
  {
   "cell_type": "code",
   "execution_count": 22,
   "id": "5674396e-d8dc-498b-96c4-840cda785199",
   "metadata": {},
   "outputs": [],
   "source": [
    "# 1. Activation Functions:\n",
    "\n",
    "def sigmoid(x):\n",
    "    return 1/(1 + np.exp(-x))\n",
    "\n",
    "def tanh(x):\n",
    "    return np.tanh(x)\n",
    "\n",
    "def relu(x):\n",
    "    return np.maximum(0, x)\n"
   ]
  },
  {
   "cell_type": "code",
   "execution_count": 23,
   "id": "22050041-a2ae-4911-b8ce-2fcb1c7e60a4",
   "metadata": {},
   "outputs": [],
   "source": [
    "# 2. Sample Data:\n",
    "\n",
    "x1, x2 = 3, 2\n",
    "y = 17\n"
   ]
  },
  {
   "cell_type": "code",
   "execution_count": 24,
   "id": "554a97ef-efc7-4e6f-afff-0f55209076e9",
   "metadata": {},
   "outputs": [
    {
     "name": "stdout",
     "output_type": "stream",
     "text": [
      "Epoch 1: ypred = 32.2254\n",
      "Epoch 2: ypred = 32.2254\n",
      "Epoch 3: ypred = 32.2254\n",
      "Epoch 4: ypred = 32.2254\n",
      "Epoch 5: ypred = 32.2254\n"
     ]
    }
   ],
   "source": [
    "# 3. Feed Forward\n",
    "\n",
    "np.random.seed(42)\n",
    "w1, w2 = np.random.uniform(1, 10, 2) # weights\n",
    "\n",
    "for epoch in range(5):\n",
    "    ypred = x1*w1 + x2*w2  # feedforword\n",
    "    print(f'Epoch {epoch+1}: ypred = {ypred:.4f}')"
   ]
  },
  {
   "cell_type": "code",
   "execution_count": 25,
   "id": "c76ba70a-c830-4155-8057-1ee0f0809a26",
   "metadata": {},
   "outputs": [
    {
     "name": "stdout",
     "output_type": "stream",
     "text": [
      "Epoch 1: ypred = 32.2254, error = -15.2254\n",
      "Epoch 2: ypred = 32.2254, error = -15.2254\n",
      "Epoch 3: ypred = 32.2254, error = -15.2254\n",
      "Epoch 4: ypred = 32.2254, error = -15.2254\n",
      "Epoch 5: ypred = 32.2254, error = -15.2254\n"
     ]
    }
   ],
   "source": [
    "# 4. Error Calculation:\n",
    "\n",
    "for epoch in range(5):\n",
    "    ypred = x1*w1 + x2*w2  # feedforword\n",
    "    error = (y - ypred) # error calculation\n",
    "    print(f'Epoch {epoch+1}: ypred = {ypred:.4f}, error = {error:.4f}')"
   ]
  },
  {
   "cell_type": "code",
   "execution_count": 26,
   "id": "04d18193-fb51-4e98-9349-7cd7a72b72a9",
   "metadata": {},
   "outputs": [
    {
     "name": "stdout",
     "output_type": "stream",
     "text": [
      "Epoch 1: ypred = 32.2254, error = -15.2254\n",
      "Epoch 2: ypred = 28.2668, error = -11.2668\n",
      "Epoch 3: ypred = 25.3375, error = -8.3375\n",
      "Epoch 4: ypred = 23.1697, error = -6.1697\n",
      "Epoch 5: ypred = 21.5656, error = -4.5656\n"
     ]
    }
   ],
   "source": [
    "# 5. Back Propagation:\n",
    "\n",
    "lr = 0.01 # learning rate\n",
    "\n",
    "for epoch in range(5):\n",
    "    ypred = x1*w1 + x2*w2  # feedforword\n",
    "    error = (y - ypred) # error calculation\n",
    "\n",
    "    # backpropogation \n",
    "    g_w1 = -2*(y - ypred) * x1\n",
    "    g_w2 = -2*(y - ypred) * x2\n",
    "\n",
    "    #update weights\n",
    "    w1 = w1 -lr * g_w1\n",
    "    w2 = w2 -lr * g_w2\n",
    "    \n",
    "    print(f'Epoch {epoch+1}: ypred = {ypred:.4f}, error = {error:.4f}')\n",
    "\n"
   ]
  },
  {
   "cell_type": "code",
   "execution_count": 27,
   "id": "b64848fc-fa7b-4f11-8782-d6685c3296e5",
   "metadata": {},
   "outputs": [
    {
     "name": "stdout",
     "output_type": "stream",
     "text": [
      "Epoch 1: ypred = 20.3785, error = -3.3785\n",
      "Epoch 2: ypred = 19.5001, error = -2.5001\n",
      "Epoch 3: ypred = 18.8501, error = -1.8501\n",
      "Epoch 4: ypred = 18.3691, error = -1.3691\n",
      "Epoch 5: ypred = 18.0131, error = -1.0131\n",
      "Epoch 6: ypred = 17.7497, error = -0.7497\n",
      "Epoch 7: ypred = 17.5548, error = -0.5548\n",
      "Epoch 8: ypred = 17.4105, error = -0.4105\n",
      "Epoch 9: ypred = 17.3038, error = -0.3038\n",
      "Epoch 10: ypred = 17.2248, error = -0.2248\n",
      "Epoch 11: ypred = 17.1664, error = -0.1664\n",
      "Epoch 12: ypred = 17.1231, error = -0.1231\n",
      "Epoch 13: ypred = 17.0911, error = -0.0911\n",
      "Epoch 14: ypred = 17.0674, error = -0.0674\n",
      "Epoch 15: ypred = 17.0499, error = -0.0499\n",
      "Epoch 16: ypred = 17.0369, error = -0.0369\n",
      "Epoch 17: ypred = 17.0273, error = -0.0273\n",
      "Epoch 18: ypred = 17.0202, error = -0.0202\n",
      "Epoch 19: ypred = 17.0150, error = -0.0150\n",
      "Epoch 20: ypred = 17.0111, error = -0.0111\n"
     ]
    }
   ],
   "source": [
    "# 6. Training:\n",
    "\n",
    "for epoch in range(20):\n",
    "    ypred = x1*w1 + x2*w2  # feedforword\n",
    "    error = (y - ypred) # error calculation\n",
    "\n",
    "    # backpropogation \n",
    "    g_w1 = -2*(y - ypred) * x1\n",
    "    g_w2 = -2*(y - ypred) * x2\n",
    "\n",
    "    #update weights\n",
    "    w1 = w1 -lr * g_w1\n",
    "    w2 = w2 -lr * g_w2\n",
    "    \n",
    "    print(f'Epoch {epoch+1}: ypred = {ypred:.4f}, error = {error:.4f}')\n",
    "\n"
   ]
  },
  {
   "cell_type": "code",
   "execution_count": 29,
   "id": "b24ec839-7fd0-4ef7-a94a-efdc5bb7e1e4",
   "metadata": {},
   "outputs": [
    {
     "name": "stdout",
     "output_type": "stream",
     "text": [
      "Epoch 1: ypred = 17.0000, error = -0.0000\n",
      "Epoch 2: ypred = 17.0000, error = -0.0000\n",
      "Epoch 3: ypred = 17.0000, error = -0.0000\n",
      "Epoch 4: ypred = 17.0000, error = -0.0000\n",
      "Epoch 5: ypred = 17.0000, error = -0.0000\n",
      "Epoch 6: ypred = 17.0000, error = -0.0000\n",
      "Epoch 7: ypred = 17.0000, error = -0.0000\n",
      "Epoch 8: ypred = 17.0000, error = -0.0000\n",
      "Epoch 9: ypred = 17.0000, error = -0.0000\n",
      "Epoch 10: ypred = 17.0000, error = -0.0000\n",
      "Epoch 11: ypred = 17.0000, error = -0.0000\n",
      "Epoch 12: ypred = 17.0000, error = -0.0000\n",
      "Epoch 13: ypred = 17.0000, error = -0.0000\n",
      "Epoch 14: ypred = 17.0000, error = -0.0000\n",
      "Epoch 15: ypred = 17.0000, error = -0.0000\n",
      "Epoch 16: ypred = 17.0000, error = -0.0000\n",
      "Epoch 17: ypred = 17.0000, error = -0.0000\n",
      "Epoch 18: ypred = 17.0000, error = -0.0000\n",
      "Epoch 19: ypred = 17.0000, error = -0.0000\n",
      "Epoch 20: ypred = 17.0000, error = -0.0000\n"
     ]
    },
    {
     "data": {
      "image/png": "[encoded data removed]",
      "text/plain": [
       "<Figure size 1200x500 with 1 Axes>"
      ]
     },
     "metadata": {},
     "output_type": "display_data"
    },
    {
     "data": {
      "image/png": "[encoded data removed]",
      "text/plain": [
       "<Figure size 640x480 with 1 Axes>"
      ]
     },
     "metadata": {},
     "output_type": "display_data"
    }
   ],
   "source": [
    "# 7. Visualization:\n",
    "\n",
    "errors = []\n",
    "predications= []\n",
    "\n",
    "for epoch in range(20):\n",
    "    \n",
    "    # feedforword\n",
    "    ypred = x1*w1 + x2*w2  \n",
    "\n",
    "    # error calculation\n",
    "    error = (y - ypred) \n",
    "    errors.append(error)\n",
    "    predications.append(ypred)\n",
    "\n",
    "    # backpropogation \n",
    "    g_w1 = -2*(y - ypred) * x1\n",
    "    g_w2 = -2*(y - ypred) * x2\n",
    "\n",
    "    #update weights\n",
    "    w1 = w1 -lr * g_w1\n",
    "    w2 = w2 -lr * g_w2\n",
    "    \n",
    "    print(f'Epoch {epoch+1}: ypred = {ypred:.4f}, error = {error:.4f}')\n",
    "\n",
    "# Plot Progression of error\n",
    "plt.figure(figsize=(12,5))\n",
    "plt.subplot(1,2,1)\n",
    "plt.plot(errors,marker='o',linestyle='-',color='b')\n",
    "plt.show()\n",
    "\n",
    "# Plot the progression of ypred\n",
    "plt.subplot(1, 2, 2)\n",
    "plt.plot(predications, marker='o', linestyle='-', color='g')\n",
    "plt.title('Predicted y vs. Epochs')\n",
    "plt.xlabel('Epochs')\n",
    "plt.ylabel('Predicted y')\n",
    "plt.axhline(y=y, color='r', linestyle='--', label='y')\n",
    "plt.legend()\n",
    "plt.tight_layout()\n",
    "plt.show()"
   ]
  },
  {
   "cell_type": "code",
   "execution_count": null,
   "id": "c58735e8-3f7b-44c3-8c20-41c108cb68f4",
   "metadata": {},
   "outputs": [],
   "source": []
  },
  {
   "cell_type": "code",
   "execution_count": null,
   "id": "bc42600a-8f1b-48e6-8084-9b5ec9d20c66",
   "metadata": {},
   "outputs": [],
   "source": []
  },
  {
   "cell_type": "code",
   "execution_count": null,
   "id": "f00f0bb7-c4bb-48a0-8e79-629c5a97a126",
   "metadata": {},
   "outputs": [],
   "source": []
  }
 ],
 "metadata": {
  "kernelspec": {
   "display_name": "Python 3 (ipykernel)",
   "language": "python",
   "name": "python3"
  },
  "language_info": {
   "codemirror_mode": {
    "name": "ipython",
    "version": 3
   },
   "file_extension": ".py",
   "mimetype": "text/x-python",
   "name": "python",
   "nbconvert_exporter": "python",
   "pygments_lexer": "ipython3",
   "version": "3.11.9"
  }
 },
 "nbformat": 4,
 "nbformat_minor": 5
}
