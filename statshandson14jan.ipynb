{
 "cells": [
  {
   "cell_type": "code",
   "execution_count": null,
   "id": "dc929129",
   "metadata": {},
   "outputs": [],
   "source": [
    "# Ordinal Data\n",
    "#Feedback is recorded in the form of ratings from 1-10\n",
    "# Education level: elementary school, high school, college\n",
    "# Economic status: low, medium, and high\n",
    "# Letter grades: A, B, C, and etc\n",
    "# Customer level of satisfaction: very satisfied, satisfied, neutral, dissatisfied, very disatisfied"
   ]
  },
  {
   "cell_type": "code",
   "execution_count": null,
   "id": "a9efe0e5",
   "metadata": {},
   "outputs": [],
   "source": [
    "# Nominal Data\n",
    "# Examples\n",
    "# Eye color (Blue, Green, Brown)\n",
    "# Hair color (Blonde, Brown, Brunette, Red, etc)\n",
    "# Martial status (Married )"
   ]
  },
  {
   "cell_type": "code",
   "execution_count": null,
   "id": "3f71ca61",
   "metadata": {},
   "outputs": [],
   "source": [
    "# Diescrete Data\n",
    "# Examples:\n",
    "# The number of students in a class\n",
    "# The number of chips in a bag\n",
    "# The number of stars in the sky"
   ]
  },
  {
   "cell_type": "code",
   "execution_count": null,
   "id": "ac93d36c",
   "metadata": {},
   "outputs": [],
   "source": [
    "# Continous Data\n",
    "# Examples:\n",
    "# Height and weight of  a student\n",
    "# Daily temperature recordings of a place\n",
    "# Wind speed measurement"
   ]
  },
  {
   "cell_type": "code",
   "execution_count": null,
   "id": "03f3413e",
   "metadata": {},
   "outputs": [],
   "source": []
  },
  {
   "cell_type": "code",
   "execution_count": null,
   "id": "1afb5ad6",
   "metadata": {},
   "outputs": [],
   "source": []
  }
 ],
 "metadata": {
  "kernelspec": {
   "display_name": "Python 3 (ipykernel)",
   "language": "python",
   "name": "python3"
  },
  "language_info": {
   "codemirror_mode": {
    "name": "ipython",
    "version": 3
   },
   "file_extension": ".py",
   "mimetype": "text/x-python",
   "name": "python",
   "nbconvert_exporter": "python",
   "pygments_lexer": "ipython3",
   "version": "3.11.4"
  }
 },
 "nbformat": 4,
 "nbformat_minor": 5
}
